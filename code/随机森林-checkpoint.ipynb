{
 "cells": [
  {
   "cell_type": "code",
   "execution_count": 1,
   "metadata": {},
   "outputs": [],
   "source": [
    "from sklearn.neighbors import KNeighborsClassifier\n",
    "from sklearn.metrics import accuracy_score\n",
    "from sklearn.model_selection import train_test_split\n",
    "from sklearn.model_selection import cross_val_score\n",
    "import pandas as pd\n",
    "import warnings\n",
    "import numpy as np\n",
    "import seaborn as sns\n",
    "import matplotlib.pyplot as plt\n",
    "from sklearn.model_selection import train_test_split\n"
   ]
  },
  {
   "cell_type": "code",
   "execution_count": 2,
   "metadata": {},
   "outputs": [
    {
     "name": "stderr",
     "output_type": "stream",
     "text": [
      "C:\\Users\\terrence\\AppData\\Roaming\\Python\\Python37\\site-packages\\pandas\\core\\frame.py:3697: SettingWithCopyWarning: \n",
      "A value is trying to be set on a copy of a slice from a DataFrame\n",
      "\n",
      "See the caveats in the documentation: http://pandas.pydata.org/pandas-docs/stable/indexing.html#indexing-view-versus-copy\n",
      "  errors=errors)\n"
     ]
    }
   ],
   "source": [
    "data=pd.read_csv('covtype.csv')\n",
    "X=data.loc[:,'elevation':'soil_type_40']\n",
    "y=data['cover_type']\n",
    "rm=['hillshade_3pm','soil_type_7','soil_type_8','soil_type_14','soil_type_15',\n",
    "     'soil_type_21','soil_type_25','soil_type_28','soil_type_36','soil_type_37']\n",
    "#选择要删除的属性特征\n",
    "X.drop(rm, axis=1, inplace=True)\n"
   ]
  },
  {
   "cell_type": "code",
   "execution_count": 3,
   "metadata": {},
   "outputs": [
    {
     "name": "stdout",
     "output_type": "stream",
     "text": [
      "(581012, 44)\n"
     ]
    }
   ],
   "source": [
    "print(X.shape)"
   ]
  },
  {
   "cell_type": "code",
   "execution_count": 4,
   "metadata": {},
   "outputs": [
    {
     "data": {
      "text/plain": [
       "Index(['elevation', 'aspect', 'slope', 'horizontal_distance_to_hydrology',\n",
       "       'vertical_distance_to_hydrology', 'horizontal_distance_to_roadways',\n",
       "       'hillshade_9am', 'hillshade_noon', 'horizontal_distance_to_fire_points',\n",
       "       'wilderness_area_1', 'wilderness_area_2', 'wilderness_area_3',\n",
       "       'wilderness_area_4', 'soil_type_1', 'soil_type_2', 'soil_type_3',\n",
       "       'soil_type_4', 'soil_type_5', 'soil_type_6', 'soil_type_9',\n",
       "       'soil_type_10', 'soil_type_11', 'soil_type_12', 'soil_type_13',\n",
       "       'soil_type_16', 'soil_type_17', 'soil_type_18', 'soil_type_19',\n",
       "       'soil_type_20', 'soil_type_22', 'soil_type_23', 'soil_type_24',\n",
       "       'soil_type_26', 'soil_type_27', 'soil_type_29', 'soil_type_30',\n",
       "       'soil_type_31', 'soil_type_32', 'soil_type_33', 'soil_type_34',\n",
       "       'soil_type_35', 'soil_type_38', 'soil_type_39', 'soil_type_40'],\n",
       "      dtype='object')"
      ]
     },
     "execution_count": 4,
     "metadata": {},
     "output_type": "execute_result"
    }
   ],
   "source": [
    "X.columns"
   ]
  },
  {
   "cell_type": "code",
   "execution_count": 5,
   "metadata": {},
   "outputs": [],
   "source": [
    "X_train, X_test, y_train, y_test = train_test_split(X,y, test_size=0.3, random_state=123)"
   ]
  },
  {
   "cell_type": "code",
   "execution_count": 6,
   "metadata": {},
   "outputs": [],
   "source": [
    "from sklearn.ensemble import RandomForestClassifier"
   ]
  },
  {
   "cell_type": "markdown",
   "metadata": {},
   "source": [
    "### 进行特征提取之后"
   ]
  },
  {
   "cell_type": "code",
   "execution_count": null,
   "metadata": {},
   "outputs": [
    {
     "name": "stderr",
     "output_type": "stream",
     "text": [
      "D:\\software\\Anaconda3\\lib\\site-packages\\sklearn\\ensemble\\forest.py:245: FutureWarning: The default value of n_estimators will change from 10 in version 0.20 to 100 in 0.22.\n",
      "  \"10 in version 0.20 to 100 in 0.22.\", FutureWarning)\n"
     ]
    },
    {
     "name": "stdout",
     "output_type": "stream",
     "text": [
      "随机森林 Accuracy(droping): 0.9432543143014503\n"
     ]
    },
    {
     "name": "stderr",
     "output_type": "stream",
     "text": [
      "D:\\software\\Anaconda3\\lib\\site-packages\\sklearn\\ensemble\\forest.py:245: FutureWarning: The default value of n_estimators will change from 10 in version 0.20 to 100 in 0.22.\n",
      "  \"10 in version 0.20 to 100 in 0.22.\", FutureWarning)\n"
     ]
    },
    {
     "name": "stdout",
     "output_type": "stream",
     "text": [
      "随机森林 Accuracy(droping): 0.9447287497705159\n"
     ]
    },
    {
     "name": "stderr",
     "output_type": "stream",
     "text": [
      "D:\\software\\Anaconda3\\lib\\site-packages\\sklearn\\ensemble\\forest.py:245: FutureWarning: The default value of n_estimators will change from 10 in version 0.20 to 100 in 0.22.\n",
      "  \"10 in version 0.20 to 100 in 0.22.\", FutureWarning)\n"
     ]
    },
    {
     "name": "stdout",
     "output_type": "stream",
     "text": [
      "随机森林 Accuracy(droping): 0.9413840187259042\n"
     ]
    },
    {
     "name": "stderr",
     "output_type": "stream",
     "text": [
      "D:\\software\\Anaconda3\\lib\\site-packages\\sklearn\\ensemble\\forest.py:245: FutureWarning: The default value of n_estimators will change from 10 in version 0.20 to 100 in 0.22.\n",
      "  \"10 in version 0.20 to 100 in 0.22.\", FutureWarning)\n"
     ]
    },
    {
     "name": "stdout",
     "output_type": "stream",
     "text": [
      "随机森林 Accuracy(droping): 0.944281255737103\n"
     ]
    },
    {
     "name": "stderr",
     "output_type": "stream",
     "text": [
      "D:\\software\\Anaconda3\\lib\\site-packages\\sklearn\\ensemble\\forest.py:245: FutureWarning: The default value of n_estimators will change from 10 in version 0.20 to 100 in 0.22.\n",
      "  \"10 in version 0.20 to 100 in 0.22.\", FutureWarning)\n"
     ]
    }
   ],
   "source": [
    "%%timeit\n",
    "X_train, X_test, y_train, y_test = train_test_split(X,y, test_size=0.3, random_state=123)\n",
    "rfc = RandomForestClassifier()  \n",
    "rfc = rfc.fit(X_train,y_train) \n",
    "Accuracy=rfc.score(X_test,y_test)\n",
    "print('随机森林 Accuracy(droping):',Accuracy)"
   ]
  },
  {
   "cell_type": "markdown",
   "metadata": {},
   "source": [
    "### 未进行特征提取"
   ]
  },
  {
   "cell_type": "code",
   "execution_count": null,
   "metadata": {},
   "outputs": [],
   "source": [
    "X_tp=data.loc[:,'elevation':'soil_type_40']"
   ]
  },
  {
   "cell_type": "code",
   "execution_count": null,
   "metadata": {},
   "outputs": [],
   "source": [
    "%%timeit\n",
    "X_train_tp, X_test_tp, y_train_tp, y_test_tp = train_test_split(X_tp,y, test_size=0.3, random_state=123)\n",
    "rfc_tp = RandomForestClassifier()  \n",
    "rfc_tp = rfc_tp.fit(X_train_tp,y_train_tp) \n",
    "Accuracy=rfc_tp.score(X_test_tp,y_test_tp)\n",
    "print('随机森林 Accuracy(no drop):',Accuracy)"
   ]
  },
  {
   "cell_type": "code",
   "execution_count": null,
   "metadata": {},
   "outputs": [],
   "source": []
  }
 ],
 "metadata": {
  "kernelspec": {
   "display_name": "Python 3",
   "language": "python",
   "name": "python3"
  },
  "language_info": {
   "codemirror_mode": {
    "name": "ipython",
    "version": 3
   },
   "file_extension": ".py",
   "mimetype": "text/x-python",
   "name": "python",
   "nbconvert_exporter": "python",
   "pygments_lexer": "ipython3",
   "version": "3.7.4"
  }
 },
 "nbformat": 4,
 "nbformat_minor": 4
}
