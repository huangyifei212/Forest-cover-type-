{
 "cells": [
  {
   "cell_type": "code",
   "execution_count": 1,
   "metadata": {},
   "outputs": [],
   "source": [
    "from sklearn.neighbors import KNeighborsClassifier\n",
    "from sklearn.metrics import accuracy_score\n",
    "from sklearn.model_selection import train_test_split\n",
    "from sklearn.model_selection import cross_val_score\n",
    "import pandas as pd\n",
    "import warnings\n",
    "import numpy as np\n",
    "import seaborn as sns\n",
    "import matplotlib.pyplot as plt\n",
    "from sklearn.model_selection import train_test_split"
   ]
  },
  {
   "cell_type": "code",
   "execution_count": 2,
   "metadata": {},
   "outputs": [
    {
     "name": "stdout",
     "output_type": "stream",
     "text": [
      "Records: 581012\n",
      "Features: 55\n",
      "Index(['elevation', 'aspect', 'slope', 'horizontal_distance_to_hydrology',\n",
      "       'vertical_distance_to_hydrology', 'horizontal_distance_to_roadways',\n",
      "       'hillshade_9am', 'hillshade_noon', 'hillshade_3pm',\n",
      "       'horizontal_distance_to_fire_points', 'wilderness_area_1',\n",
      "       'wilderness_area_2', 'wilderness_area_3', 'wilderness_area_4',\n",
      "       'soil_type_1', 'soil_type_2', 'soil_type_3', 'soil_type_4',\n",
      "       'soil_type_5', 'soil_type_6', 'soil_type_7', 'soil_type_8',\n",
      "       'soil_type_9', 'soil_type_10', 'soil_type_11', 'soil_type_12',\n",
      "       'soil_type_13', 'soil_type_14', 'soil_type_15', 'soil_type_16',\n",
      "       'soil_type_17', 'soil_type_18', 'soil_type_19', 'soil_type_20',\n",
      "       'soil_type_21', 'soil_type_22', 'soil_type_23', 'soil_type_24',\n",
      "       'soil_type_25', 'soil_type_26', 'soil_type_27', 'soil_type_28',\n",
      "       'soil_type_29', 'soil_type_30', 'soil_type_31', 'soil_type_32',\n",
      "       'soil_type_33', 'soil_type_34', 'soil_type_35', 'soil_type_36',\n",
      "       'soil_type_37', 'soil_type_38', 'soil_type_39', 'soil_type_40',\n",
      "       'cover_type'],\n",
      "      dtype='object')\n"
     ]
    }
   ],
   "source": [
    "data=pd.read_csv('covtype.csv')\n",
    "print('Records:', data.shape[0])\n",
    "print('Features:', data.shape[1])\n",
    "print(data.columns)"
   ]
  },
  {
   "cell_type": "code",
   "execution_count": 3,
   "metadata": {},
   "outputs": [],
   "source": [
    "X=data.loc[:,'elevation':'soil_type_40']\n",
    "y=data['cover_type']"
   ]
  },
  {
   "cell_type": "code",
   "execution_count": 4,
   "metadata": {},
   "outputs": [
    {
     "name": "stdout",
     "output_type": "stream",
     "text": [
      "(581012, 54)\n"
     ]
    }
   ],
   "source": [
    "print(X.shape)"
   ]
  },
  {
   "cell_type": "code",
   "execution_count": 5,
   "metadata": {},
   "outputs": [],
   "source": [
    "from sklearn.decomposition import PCA\n",
    "pca = PCA(n_components = 44)\n",
    "NewX = pca.fit_transform(X)\n",
    "explained_variance = pca.explained_variance_ratio_"
   ]
  },
  {
   "cell_type": "code",
   "execution_count": 6,
   "metadata": {},
   "outputs": [
    {
     "data": {
      "text/plain": [
       "array([6.62452842e-01, 3.07336958e-01, 1.77156711e-02, 8.59396354e-03,\n",
       "       3.06776869e-03, 4.73187563e-04, 2.47005207e-04, 1.03769937e-04,\n",
       "       8.01069072e-06, 5.27226907e-07, 8.98849321e-08, 3.02480948e-08,\n",
       "       2.01976449e-08, 1.97305536e-08, 1.72831812e-08, 1.41389395e-08,\n",
       "       1.16160760e-08, 1.09253979e-08, 1.00106816e-08, 8.96595783e-09,\n",
       "       7.62816381e-09, 6.97786487e-09, 5.97252896e-09, 5.69106876e-09,\n",
       "       4.90846804e-09, 4.55333622e-09, 4.12659020e-09, 3.44285401e-09,\n",
       "       3.13819366e-09, 2.47725065e-09, 2.01324566e-09, 1.74829704e-09,\n",
       "       1.57187860e-09, 1.31313159e-09, 1.17538271e-09, 1.02912736e-09,\n",
       "       9.37473264e-10, 7.85587604e-10, 7.01234538e-10, 6.38861046e-10,\n",
       "       5.34413509e-10, 4.59027494e-10, 4.21196631e-10, 3.75535629e-10])"
      ]
     },
     "execution_count": 6,
     "metadata": {},
     "output_type": "execute_result"
    }
   ],
   "source": [
    "explained_variance"
   ]
  },
  {
   "cell_type": "code",
   "execution_count": 7,
   "metadata": {},
   "outputs": [
    {
     "name": "stdout",
     "output_type": "stream",
     "text": [
      "(581012, 44)\n"
     ]
    }
   ],
   "source": [
    "print(NewX.shape)"
   ]
  },
  {
   "cell_type": "markdown",
   "metadata": {},
   "source": [
    "### PCA降维之后的KNN"
   ]
  },
  {
   "cell_type": "code",
   "execution_count": 8,
   "metadata": {},
   "outputs": [
    {
     "name": "stdout",
     "output_type": "stream",
     "text": [
      "KNN Accuracy(PCA): 0.9662428859922894\n",
      "KNN Accuracy(PCA): 0.9662428859922894\n",
      "KNN Accuracy(PCA): 0.9662428859922894\n",
      "KNN Accuracy(PCA): 0.9662428859922894\n",
      "KNN Accuracy(PCA): 0.9662428859922894\n",
      "KNN Accuracy(PCA): 0.9662428859922894\n",
      "KNN Accuracy(PCA): 0.9662428859922894\n",
      "KNN Accuracy(PCA): 0.9662428859922894\n",
      "16.8 s ± 30.8 ms per loop (mean ± std. dev. of 7 runs, 1 loop each)\n"
     ]
    }
   ],
   "source": [
    "%%timeit\n",
    "X_train, X_test, y_train, y_test = train_test_split(NewX,y, test_size=0.3, random_state=123)\n",
    "knn = KNeighborsClassifier(n_neighbors=3)\n",
    "knn.fit(X_train,y_train)\n",
    "Accuracy=knn.score(X_test,y_test)\n",
    "print('KNN Accuracy(PCA):',Accuracy)"
   ]
  },
  {
   "cell_type": "markdown",
   "metadata": {},
   "source": [
    "### PCA降维之后的决策树"
   ]
  },
  {
   "cell_type": "code",
   "execution_count": 9,
   "metadata": {},
   "outputs": [],
   "source": [
    "from sklearn import tree"
   ]
  },
  {
   "cell_type": "code",
   "execution_count": 10,
   "metadata": {},
   "outputs": [
    {
     "name": "stdout",
     "output_type": "stream",
     "text": [
      "Decision Tree Accuracy(PCA): 0.9183036533871856\n",
      "Decision Tree Accuracy(PCA): 0.9181659629153662\n",
      "Decision Tree Accuracy(PCA): 0.9180282724435469\n",
      "Decision Tree Accuracy(PCA): 0.9188085184505232\n",
      "Decision Tree Accuracy(PCA): 0.9187740958325684\n",
      "Decision Tree Accuracy(PCA): 0.9185044519919222\n",
      "Decision Tree Accuracy(PCA): 0.9183724986230953\n",
      "Decision Tree Accuracy(PCA): 0.9181602258123738\n",
      "47.9 s ± 534 ms per loop (mean ± std. dev. of 7 runs, 1 loop each)\n"
     ]
    }
   ],
   "source": [
    "%%timeit\n",
    "X_train, X_test, y_train, y_test = train_test_split(NewX,y, test_size=0.3, random_state=123)\n",
    "clf = tree.DecisionTreeClassifier()\n",
    "clf = clf.fit(X_train, y_train)\n",
    "Accuracy=clf.score(X_test,y_test)\n",
    "print('Decision Tree Accuracy(PCA):',Accuracy)"
   ]
  },
  {
   "cell_type": "markdown",
   "metadata": {},
   "source": [
    "### PCA降维之后的随机森林"
   ]
  },
  {
   "cell_type": "code",
   "execution_count": 11,
   "metadata": {},
   "outputs": [],
   "source": [
    "from sklearn.ensemble import RandomForestClassifier"
   ]
  },
  {
   "cell_type": "code",
   "execution_count": 12,
   "metadata": {},
   "outputs": [
    {
     "name": "stderr",
     "output_type": "stream",
     "text": [
      "D:\\software\\Anaconda3\\lib\\site-packages\\sklearn\\ensemble\\forest.py:245: FutureWarning: The default value of n_estimators will change from 10 in version 0.20 to 100 in 0.22.\n",
      "  \"10 in version 0.20 to 100 in 0.22.\", FutureWarning)\n"
     ]
    },
    {
     "name": "stdout",
     "output_type": "stream",
     "text": [
      "随机森林 Accuracy(PCA): 0.9428527170919773\n"
     ]
    },
    {
     "name": "stderr",
     "output_type": "stream",
     "text": [
      "D:\\software\\Anaconda3\\lib\\site-packages\\sklearn\\ensemble\\forest.py:245: FutureWarning: The default value of n_estimators will change from 10 in version 0.20 to 100 in 0.22.\n",
      "  \"10 in version 0.20 to 100 in 0.22.\", FutureWarning)\n"
     ]
    },
    {
     "name": "stdout",
     "output_type": "stream",
     "text": [
      "随机森林 Accuracy(PCA): 0.9426748668992105\n"
     ]
    },
    {
     "name": "stderr",
     "output_type": "stream",
     "text": [
      "D:\\software\\Anaconda3\\lib\\site-packages\\sklearn\\ensemble\\forest.py:245: FutureWarning: The default value of n_estimators will change from 10 in version 0.20 to 100 in 0.22.\n",
      "  \"10 in version 0.20 to 100 in 0.22.\", FutureWarning)\n"
     ]
    },
    {
     "name": "stdout",
     "output_type": "stream",
     "text": [
      "随机森林 Accuracy(PCA): 0.9431625206535708\n"
     ]
    },
    {
     "name": "stderr",
     "output_type": "stream",
     "text": [
      "D:\\software\\Anaconda3\\lib\\site-packages\\sklearn\\ensemble\\forest.py:245: FutureWarning: The default value of n_estimators will change from 10 in version 0.20 to 100 in 0.22.\n",
      "  \"10 in version 0.20 to 100 in 0.22.\", FutureWarning)\n"
     ]
    },
    {
     "name": "stdout",
     "output_type": "stream",
     "text": [
      "随机森林 Accuracy(PCA): 0.943541169451074\n"
     ]
    },
    {
     "name": "stderr",
     "output_type": "stream",
     "text": [
      "D:\\software\\Anaconda3\\lib\\site-packages\\sklearn\\ensemble\\forest.py:245: FutureWarning: The default value of n_estimators will change from 10 in version 0.20 to 100 in 0.22.\n",
      "  \"10 in version 0.20 to 100 in 0.22.\", FutureWarning)\n"
     ]
    },
    {
     "name": "stdout",
     "output_type": "stream",
     "text": [
      "随机森林 Accuracy(PCA): 0.9428584541949697\n"
     ]
    },
    {
     "name": "stderr",
     "output_type": "stream",
     "text": [
      "D:\\software\\Anaconda3\\lib\\site-packages\\sklearn\\ensemble\\forest.py:245: FutureWarning: The default value of n_estimators will change from 10 in version 0.20 to 100 in 0.22.\n",
      "  \"10 in version 0.20 to 100 in 0.22.\", FutureWarning)\n"
     ]
    },
    {
     "name": "stdout",
     "output_type": "stream",
     "text": [
      "随机森林 Accuracy(PCA): 0.9425142280154213\n"
     ]
    },
    {
     "name": "stderr",
     "output_type": "stream",
     "text": [
      "D:\\software\\Anaconda3\\lib\\site-packages\\sklearn\\ensemble\\forest.py:245: FutureWarning: The default value of n_estimators will change from 10 in version 0.20 to 100 in 0.22.\n",
      "  \"10 in version 0.20 to 100 in 0.22.\", FutureWarning)\n"
     ]
    },
    {
     "name": "stdout",
     "output_type": "stream",
     "text": [
      "随机森林 Accuracy(PCA): 0.9437419680558106\n"
     ]
    },
    {
     "name": "stderr",
     "output_type": "stream",
     "text": [
      "D:\\software\\Anaconda3\\lib\\site-packages\\sklearn\\ensemble\\forest.py:245: FutureWarning: The default value of n_estimators will change from 10 in version 0.20 to 100 in 0.22.\n",
      "  \"10 in version 0.20 to 100 in 0.22.\", FutureWarning)\n"
     ]
    },
    {
     "name": "stdout",
     "output_type": "stream",
     "text": [
      "随机森林 Accuracy(PCA): 0.9427609234440977\n",
      "44.8 s ± 2.7 s per loop (mean ± std. dev. of 7 runs, 1 loop each)\n"
     ]
    }
   ],
   "source": [
    "%%timeit\n",
    "X_train, X_test, y_train, y_test = train_test_split(NewX,y, test_size=0.3, random_state=123)\n",
    "rfc = RandomForestClassifier()  \n",
    "rfc = rfc.fit(X_train,y_train) \n",
    "Accuracy=rfc.score(X_test,y_test)\n",
    "print('随机森林 Accuracy(PCA):',Accuracy)"
   ]
  },
  {
   "cell_type": "code",
   "execution_count": null,
   "metadata": {},
   "outputs": [],
   "source": []
  }
 ],
 "metadata": {
  "kernelspec": {
   "display_name": "Python 3",
   "language": "python",
   "name": "python3"
  },
  "language_info": {
   "codemirror_mode": {
    "name": "ipython",
    "version": 3
   },
   "file_extension": ".py",
   "mimetype": "text/x-python",
   "name": "python",
   "nbconvert_exporter": "python",
   "pygments_lexer": "ipython3",
   "version": "3.7.4"
  }
 },
 "nbformat": 4,
 "nbformat_minor": 4
}
