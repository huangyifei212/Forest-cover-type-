{
 "cells": [
  {
   "cell_type": "code",
   "execution_count": 1,
   "metadata": {},
   "outputs": [],
   "source": [
    "from sklearn.neighbors import KNeighborsClassifier\n",
    "from sklearn.metrics import accuracy_score\n",
    "from sklearn.model_selection import train_test_split\n",
    "from sklearn.model_selection import cross_val_score\n",
    "import pandas as pd\n",
    "import warnings\n",
    "import numpy as np\n",
    "import seaborn as sns\n",
    "import matplotlib.pyplot as plt\n",
    "from sklearn.model_selection import train_test_split"
   ]
  },
  {
   "cell_type": "code",
   "execution_count": 2,
   "metadata": {},
   "outputs": [
    {
     "name": "stdout",
     "output_type": "stream",
     "text": [
      "Records: 581012\n",
      "Features: 55\n",
      "Index(['elevation', 'aspect', 'slope', 'horizontal_distance_to_hydrology',\n",
      "       'vertical_distance_to_hydrology', 'horizontal_distance_to_roadways',\n",
      "       'hillshade_9am', 'hillshade_noon', 'hillshade_3pm',\n",
      "       'horizontal_distance_to_fire_points', 'wilderness_area_1',\n",
      "       'wilderness_area_2', 'wilderness_area_3', 'wilderness_area_4',\n",
      "       'soil_type_1', 'soil_type_2', 'soil_type_3', 'soil_type_4',\n",
      "       'soil_type_5', 'soil_type_6', 'soil_type_7', 'soil_type_8',\n",
      "       'soil_type_9', 'soil_type_10', 'soil_type_11', 'soil_type_12',\n",
      "       'soil_type_13', 'soil_type_14', 'soil_type_15', 'soil_type_16',\n",
      "       'soil_type_17', 'soil_type_18', 'soil_type_19', 'soil_type_20',\n",
      "       'soil_type_21', 'soil_type_22', 'soil_type_23', 'soil_type_24',\n",
      "       'soil_type_25', 'soil_type_26', 'soil_type_27', 'soil_type_28',\n",
      "       'soil_type_29', 'soil_type_30', 'soil_type_31', 'soil_type_32',\n",
      "       'soil_type_33', 'soil_type_34', 'soil_type_35', 'soil_type_36',\n",
      "       'soil_type_37', 'soil_type_38', 'soil_type_39', 'soil_type_40',\n",
      "       'cover_type'],\n",
      "      dtype='object')\n"
     ]
    }
   ],
   "source": [
    "data=pd.read_csv('covtype.csv')\n",
    "print('Records:', data.shape[0])\n",
    "print('Features:', data.shape[1])\n",
    "print(data.columns)"
   ]
  },
  {
   "cell_type": "code",
   "execution_count": 3,
   "metadata": {},
   "outputs": [],
   "source": [
    "X=data.loc[:,'elevation':'soil_type_40']\n",
    "y=data['cover_type']"
   ]
  },
  {
   "cell_type": "code",
   "execution_count": 4,
   "metadata": {},
   "outputs": [],
   "source": [
    "rm=['hillshade_3pm','soil_type_7','soil_type_8','soil_type_14','soil_type_15',\n",
    "     'soil_type_21','soil_type_25','soil_type_28','soil_type_36','soil_type_37']\n",
    "#选择要删除的属性特征\n"
   ]
  },
  {
   "cell_type": "code",
   "execution_count": 5,
   "metadata": {},
   "outputs": [
    {
     "name": "stderr",
     "output_type": "stream",
     "text": [
      "C:\\Users\\terrence\\AppData\\Roaming\\Python\\Python37\\site-packages\\pandas\\core\\frame.py:3697: SettingWithCopyWarning: \n",
      "A value is trying to be set on a copy of a slice from a DataFrame\n",
      "\n",
      "See the caveats in the documentation: http://pandas.pydata.org/pandas-docs/stable/indexing.html#indexing-view-versus-copy\n",
      "  errors=errors)\n"
     ]
    }
   ],
   "source": [
    "X.drop(rm, axis=1, inplace=True)"
   ]
  },
  {
   "cell_type": "code",
   "execution_count": 6,
   "metadata": {},
   "outputs": [],
   "source": [
    "X_train, X_test, y_train, y_test = train_test_split(X,y, test_size=0.3, random_state=123)"
   ]
  },
  {
   "cell_type": "markdown",
   "metadata": {},
   "source": [
    "# K值的确定"
   ]
  },
  {
   "cell_type": "code",
   "execution_count": 7,
   "metadata": {},
   "outputs": [
    {
     "data": {
      "image/png": "[encoded data removed]",
      "text/plain": [
       "<Figure size 432x288 with 1 Axes>"
      ]
     },
     "metadata": {
      "needs_background": "light"
     },
     "output_type": "display_data"
    }
   ],
   "source": [
    "# 导入第三方模块\n",
    "def KNN_valuechoise(X_tain, y_train, K_num):\n",
    "    # 设置待测试的不同k值\n",
    "    K = np.arange(1,K_num+1)\n",
    "    length = len(K)\n",
    "    # 构建空的列表，用于存储平均准确率\n",
    "    accuracy = []\n",
    "    for k in K:\n",
    "        # 使用10重交叉验证的方法，比对每一个k值下KNN模型的预测准确率\n",
    "        cv_result = cross_val_score(KNeighborsClassifier(n_neighbors = int(k), weights = 'distance'), \n",
    "                                                    X_train, y_train, cv = 10, scoring='accuracy')\n",
    "        accuracy.append(cv_result.mean())\n",
    "    # 从k个平均准确率中挑选出最大值所对应的下标    \n",
    "    arg_max = np.array(accuracy).argmax()\n",
    "    # 中文和负号的正常显示\n",
    "    plt.rcParams['font.sans-serif'] = [u'SimHei']\n",
    "    plt.rcParams['axes.unicode_minus'] = False\n",
    "    # 绘制不同K值与平均预测准确率之间的折线图\n",
    "    plt.plot(K, accuracy)\n",
    "    # 添加点图\n",
    "    plt.scatter(K, accuracy)\n",
    "    # 添加文字说明\n",
    "    plt.text(K[arg_max], accuracy[arg_max], '最佳k值为%s' %int(K[arg_max]))\n",
    "    plt.xticks(np.arange(K_num+1), np.arange(K_num+1))\n",
    "    # 显示图形\n",
    "    plt.show()\n",
    "    \n",
    "KNN_valuechoise(X_train, y_train, 7)#输入原始训练数据和取值范围\n"
   ]
  },
  {
   "cell_type": "markdown",
   "metadata": {},
   "source": [
    "# 寻找最优超参数weights"
   ]
  },
  {
   "cell_type": "code",
   "execution_count": 8,
   "metadata": {},
   "outputs": [
    {
     "name": "stdout",
     "output_type": "stream",
     "text": [
      "k=4,得分为:0.9621,最好的方法uniform\n",
      "k=4,得分为:0.9670,最好的方法distance\n",
      "最好的k为:4,最好的得分为:0.9670,最好的方法distance\n"
     ]
    }
   ],
   "source": [
    "def main():\n",
    "    # 寻找最好的k,weights\n",
    "    best_k=-1\n",
    "    best_score=0\n",
    "    best_method=''\n",
    "    for method in ['uniform','distance']:\n",
    "        i=4\n",
    "        knn_clf=KNeighborsClassifier(n_neighbors=i,weights=method)\n",
    "        knn_clf.fit(X_train,y_train)\n",
    "        scores=knn_clf.score(X_test,y_test)\n",
    "        print('k=4,得分为:%.4f,最好的方法%s'%(scores,method))\n",
    "        if scores>best_score:\n",
    "            best_score=scores\n",
    "            best_k=i\n",
    "            best_method=method\n",
    "    print('最好的k为:%d,最好的得分为:%.4f,最好的方法%s'%(best_k,best_score,best_method))\n",
    "if __name__ == '__main__':\n",
    "    main()"
   ]
  },
  {
   "cell_type": "markdown",
   "metadata": {},
   "source": [
    "在 K=4 ditance的基础上确定P"
   ]
  },
  {
   "cell_type": "code",
   "execution_count": 9,
   "metadata": {},
   "outputs": [
    {
     "name": "stdout",
     "output_type": "stream",
     "text": [
      "[1 2 3 4 5]\n"
     ]
    },
    {
     "data": {
      "image/png": "[encoded data removed]",
      "text/plain": [
       "<Figure size 432x288 with 1 Axes>"
      ]
     },
     "metadata": {
      "needs_background": "light"
     },
     "output_type": "display_data"
    },
    {
     "name": "stdout",
     "output_type": "stream",
     "text": [
      "最好的k为:4,最好的得分为:0.9686,最好的p为1\n"
     ]
    }
   ],
   "source": [
    "def main():\n",
    "    from sklearn.neighbors import KNeighborsClassifier\n",
    "    # 寻找最好的k,weights\n",
    "    best_k=-1\n",
    "    best_score=0\n",
    "    best_p=-1\n",
    "    i=4\n",
    "    P=np.arange(1,6)\n",
    "    print(P)\n",
    "    accuracy = []\n",
    "    for p in range(1,6):\n",
    "        knn_clf=KNeighborsClassifier(n_neighbors=i,weights='distance',p=p)\n",
    "        knn_clf.fit(X_train,y_train)\n",
    "        scores=knn_clf.score(X_test,y_test)\n",
    "        accuracy.append(scores)\n",
    "        if scores>best_score:\n",
    "            best_score=scores\n",
    "            best_k=i\n",
    "            best_p=p\n",
    "    arg_max = np.array(accuracy).argmax()\n",
    "    # 中文和负号的正常显示\n",
    "    plt.rcParams['font.sans-serif'] = [u'SimHei']\n",
    "    plt.rcParams['axes.unicode_minus'] = False\n",
    "    plt.plot(P, accuracy)\n",
    "    # 添加点图\n",
    "    plt.scatter(P, accuracy)\n",
    "    # 添加文字说明\n",
    "    plt.text(P[arg_max], accuracy[arg_max], '最佳P值为%s' %int(P[arg_max]))\n",
    "    plt.xticks(np.arange(6), np.arange(6))\n",
    "    plt.ylabel(\"score(%)\")\n",
    "    plt.xlabel(\"P值\")\n",
    "    \n",
    "    # 显示图形\n",
    "    plt.show()\n",
    "    print('最好的k为:%d,最好的得分为:%.4f,最好的p为%d'%(best_k,best_score,best_p))\n",
    "if __name__ == '__main__':\n",
    "    main()"
   ]
  },
  {
   "cell_type": "code",
   "execution_count": 10,
   "metadata": {},
   "outputs": [],
   "source": [
    "knn = KNeighborsClassifier()\n",
    "knn.fit(X_train, y_train)\n",
    "scores=knn.score(X_test,y_test)"
   ]
  },
  {
   "cell_type": "code",
   "execution_count": 11,
   "metadata": {},
   "outputs": [
    {
     "name": "stdout",
     "output_type": "stream",
     "text": [
      "0.9649864604369378\n"
     ]
    }
   ],
   "source": [
    "print(scores)"
   ]
  },
  {
   "cell_type": "code",
   "execution_count": null,
   "metadata": {},
   "outputs": [],
   "source": []
  }
 ],
 "metadata": {
  "kernelspec": {
   "display_name": "Python 3",
   "language": "python",
   "name": "python3"
  },
  "language_info": {
   "codemirror_mode": {
    "name": "ipython",
    "version": 3
   },
   "file_extension": ".py",
   "mimetype": "text/x-python",
   "name": "python",
   "nbconvert_exporter": "python",
   "pygments_lexer": "ipython3",
   "version": "3.7.4"
  }
 },
 "nbformat": 4,
 "nbformat_minor": 4
}
